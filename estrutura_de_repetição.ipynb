{
  "nbformat": 4,
  "nbformat_minor": 0,
  "metadata": {
    "colab": {
      "name": "estrutura de repetição.ipynb",
      "provenance": [],
      "collapsed_sections": [],
      "authorship_tag": "ABX9TyN//UvL7hYneqXNcYQqYxbk",
      "include_colab_link": true
    },
    "kernelspec": {
      "name": "python3",
      "display_name": "Python 3"
    }
  },
  "cells": [
    {
      "cell_type": "markdown",
      "metadata": {
        "id": "view-in-github",
        "colab_type": "text"
      },
      "source": [
        "<a href=\"https://colab.research.google.com/github/willrockies/estrutura-de-dados-python/blob/main/estrutura_de_repeti%C3%A7%C3%A3o.ipynb\" target=\"_parent\"><img src=\"https://colab.research.google.com/assets/colab-badge.svg\" alt=\"Open In Colab\"/></a>"
      ]
    },
    {
      "cell_type": "code",
      "metadata": {
        "id": "x9B3i4NKUr8q"
      },
      "source": [
        ""
      ],
      "execution_count": null,
      "outputs": []
    },
    {
      "cell_type": "markdown",
      "metadata": {
        "id": "kOr_4GapUtki"
      },
      "source": [
        "# Estrutura de repetição while"
      ]
    },
    {
      "cell_type": "code",
      "metadata": {
        "colab": {
          "base_uri": "https://localhost:8080/"
        },
        "id": "_VcEcxLCU0bM",
        "outputId": "fd661179-7861-4b2e-ae5b-61be5e89bf4b"
      },
      "source": [
        "numero = -1\n",
        "while numero < 1 or numero > 10:\n",
        "  numero = int (input('Digite um numero: '))"
      ],
      "execution_count": null,
      "outputs": [
        {
          "output_type": "stream",
          "text": [
            "Digite um numero: -4\n",
            "Digite um numero: -11\n",
            "Digite um numero: 11\n",
            "Digite um numero: 5\n"
          ],
          "name": "stdout"
        }
      ]
    },
    {
      "cell_type": "code",
      "metadata": {
        "colab": {
          "base_uri": "https://localhost:8080/"
        },
        "id": "vU4MYwHUViA0",
        "outputId": "8f821d37-6748-41b6-db7b-eec2f1fce673"
      },
      "source": [
        "nota = 0\n",
        "for recebeNota in range(1,6):\n",
        "  recebeNota = float(input('Digite sua nota'))\n",
        "  nota +=  recebeNota\n",
        "  media = nota /5\n",
        "print (media)"
      ],
      "execution_count": 1,
      "outputs": [
        {
          "output_type": "stream",
          "text": [
            "Digite sua nota1\n",
            "Digite sua nota2\n",
            "Digite sua nota3\n",
            "Digite sua nota4\n",
            "Digite sua nota5\n",
            "3.0\n"
          ],
          "name": "stdout"
        }
      ]
    },
    {
      "cell_type": "code",
      "metadata": {
        "colab": {
          "base_uri": "https://localhost:8080/"
        },
        "id": "tqhyR8QJD8kf",
        "outputId": "c6cd8736-c386-440d-a63f-35878c27511a"
      },
      "source": [
        "numero = 1\n",
        "while numero <= 10:\n",
        "  print ('3 x {} = {}'.format(numero, 3 * numero))\n",
        "  numero += 1"
      ],
      "execution_count": 3,
      "outputs": [
        {
          "output_type": "stream",
          "text": [
            "3 x 1 = 3\n",
            "3 x 2 = 6\n",
            "3 x 3 = 9\n",
            "3 x 4 = 12\n",
            "3 x 5 = 15\n",
            "3 x 6 = 18\n",
            "3 x 7 = 21\n",
            "3 x 8 = 24\n",
            "3 x 9 = 27\n",
            "3 x 10 = 30\n"
          ],
          "name": "stdout"
        }
      ]
    },
    {
      "cell_type": "code",
      "metadata": {
        "id": "oL2SlwfrXhte"
      },
      "source": [
        ""
      ],
      "execution_count": null,
      "outputs": []
    }
  ]
}